{
 "cells": [
  {
   "cell_type": "code",
   "execution_count": 8,
   "id": "4b5cf26d",
   "metadata": {},
   "outputs": [
    {
     "name": "stdout",
     "output_type": "stream",
     "text": [
      "    *\n",
      "   ***\n",
      "  *****\n",
      " *******\n",
      "*********\n"
     ]
    }
   ],
   "source": [
    "i=1\n",
    "l=2\n",
    "while i<=5:\n",
    "    j=5\n",
    "    k=1\n",
    "    while j>i:\n",
    "        print(' ',end='')\n",
    "        j=j-1\n",
    "    while k<l:\n",
    "        print('*',end='')\n",
    "        k=k+1\n",
    "    print()\n",
    "    i=i+1\n",
    "    l=l+2"
   ]
  },
  {
   "cell_type": "code",
   "execution_count": null,
   "id": "4de18619",
   "metadata": {},
   "outputs": [],
   "source": []
  },
  {
   "cell_type": "code",
   "execution_count": 9,
   "id": "5d0bfa7c",
   "metadata": {},
   "outputs": [
    {
     "name": "stdout",
     "output_type": "stream",
     "text": [
      "    1\n",
      "   123\n",
      "  12345\n",
      " 1234567\n",
      "123456789\n"
     ]
    }
   ],
   "source": [
    "i=1\n",
    "l=2\n",
    "while i<=5:\n",
    "    j=5\n",
    "    k=1\n",
    "    while j>i:\n",
    "        print(' ',end='')\n",
    "        j=j-1\n",
    "    while k<l:\n",
    "        print(k,end='')\n",
    "        k=k+1\n",
    "    print()\n",
    "    i=i+1\n",
    "    l=l+2"
   ]
  },
  {
   "cell_type": "code",
   "execution_count": null,
   "id": "9f3a0334",
   "metadata": {},
   "outputs": [],
   "source": []
  },
  {
   "cell_type": "code",
   "execution_count": 11,
   "id": "320e290e",
   "metadata": {},
   "outputs": [
    {
     "name": "stdout",
     "output_type": "stream",
     "text": [
      "    1\n",
      "   333\n",
      "  55555\n",
      " 7777777\n",
      "999999999\n"
     ]
    }
   ],
   "source": [
    "i=1\n",
    "l=2\n",
    "m=1\n",
    "while i<=5:\n",
    "    j=5\n",
    "    k=1\n",
    "    while j>i:\n",
    "        print(' ',end='')\n",
    "        j=j-1\n",
    "    while k<l:\n",
    "        print(m,end='')\n",
    "        k=k+1\n",
    "    print()\n",
    "    i=i+1\n",
    "    l=l+2\n",
    "    m=m+2"
   ]
  },
  {
   "cell_type": "code",
   "execution_count": null,
   "id": "3ca46bdf",
   "metadata": {},
   "outputs": [],
   "source": []
  },
  {
   "cell_type": "code",
   "execution_count": 13,
   "id": "cea8e06f",
   "metadata": {},
   "outputs": [
    {
     "name": "stdout",
     "output_type": "stream",
     "text": [
      "    1\n",
      "   222\n",
      "  33333\n",
      " 4444444\n",
      "555555555\n"
     ]
    }
   ],
   "source": [
    "i=1\n",
    "l=2\n",
    "while i<=5:\n",
    "    j=5\n",
    "    k=1\n",
    "    while j>i:\n",
    "        print(' ',end='')\n",
    "        j=j-1\n",
    "    while k<l:\n",
    "        print(i,end='')\n",
    "        k=k+1\n",
    "    print()\n",
    "    i=i+1\n",
    "    l=l+2"
   ]
  },
  {
   "cell_type": "code",
   "execution_count": null,
   "id": "b38fd153",
   "metadata": {},
   "outputs": [],
   "source": []
  }
 ],
 "metadata": {
  "kernelspec": {
   "display_name": "Python 3",
   "language": "python",
   "name": "python3"
  },
  "language_info": {
   "codemirror_mode": {
    "name": "ipython",
    "version": 3
   },
   "file_extension": ".py",
   "mimetype": "text/x-python",
   "name": "python",
   "nbconvert_exporter": "python",
   "pygments_lexer": "ipython3",
   "version": "3.8.8"
  }
 },
 "nbformat": 4,
 "nbformat_minor": 5
}
