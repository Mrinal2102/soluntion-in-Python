{
 "cells": [
  {
   "cell_type": "code",
   "execution_count": 1,
   "id": "a77b083f",
   "metadata": {},
   "outputs": [
    {
     "name": "stdout",
     "output_type": "stream",
     "text": [
      "n= 1234\n",
      "reversed no.=  0\n"
     ]
    }
   ],
   "source": [
    "n=int(input('n= '))\n",
    "sum=0\n",
    "count=0\n",
    "count_1=0\n",
    "while n>0:\n",
    "    count=count + 1\n",
    "    n=n//10\n",
    "while n>0:\n",
    "    count_1=count_1 + 1\n",
    "    sum = sum + (n%10)*(10**(count-count_1))\n",
    "    n=n//10\n",
    "print('reversed no.= ',sum)"
   ]
  },
  {
   "cell_type": "code",
   "execution_count": null,
   "id": "24a6dd13",
   "metadata": {},
   "outputs": [],
   "source": []
  },
  {
   "cell_type": "code",
   "execution_count": 2,
   "id": "dea825b5",
   "metadata": {},
   "outputs": [
    {
     "name": "stdout",
     "output_type": "stream",
     "text": [
      "n= 1213\n",
      "reversed no.=  3121\n"
     ]
    }
   ],
   "source": [
    "n=int(input('n= '))\n",
    "sum=0\n",
    "count=0\n",
    "count_1=0\n",
    "p=n\n",
    "t=n\n",
    "while p>0:\n",
    "    count=count + 1\n",
    "    p=p//10\n",
    "while t>0:\n",
    "    count_1=count_1 + 1\n",
    "    sum = sum + (t%10)*(10**(count-count_1))\n",
    "    t=t//10\n",
    "print('reversed no.= ',sum)"
   ]
  },
  {
   "cell_type": "code",
   "execution_count": null,
   "id": "9833e36c",
   "metadata": {},
   "outputs": [],
   "source": []
  },
  {
   "cell_type": "code",
   "execution_count": 4,
   "id": "8f3545cd",
   "metadata": {},
   "outputs": [
    {
     "name": "stdout",
     "output_type": "stream",
     "text": [
      "n= 525\n",
      "reversed no.=  525\n",
      "n is palidrome no.\n"
     ]
    }
   ],
   "source": [
    "n=int(input('n= '))\n",
    "sum=0\n",
    "count=0\n",
    "count_1=0\n",
    "p=n\n",
    "t=n\n",
    "while p>0:\n",
    "    count=count + 1\n",
    "    p=p//10\n",
    "while t>0:\n",
    "    count_1=count_1 + 1\n",
    "    sum = sum + (t%10)*(10**(count-count_1))\n",
    "    t=t//10\n",
    "print('reversed no.= ',sum)\n",
    "if sum==n:\n",
    "    print('n is palidrome no.')\n",
    "else:\n",
    "    print('n is not palidrome no.')"
   ]
  },
  {
   "cell_type": "code",
   "execution_count": null,
   "id": "8085a6d1",
   "metadata": {},
   "outputs": [],
   "source": []
  }
 ],
 "metadata": {
  "kernelspec": {
   "display_name": "Python 3",
   "language": "python",
   "name": "python3"
  },
  "language_info": {
   "codemirror_mode": {
    "name": "ipython",
    "version": 3
   },
   "file_extension": ".py",
   "mimetype": "text/x-python",
   "name": "python",
   "nbconvert_exporter": "python",
   "pygments_lexer": "ipython3",
   "version": "3.8.8"
  }
 },
 "nbformat": 4,
 "nbformat_minor": 5
}
