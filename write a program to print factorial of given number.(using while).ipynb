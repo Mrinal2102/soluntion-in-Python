{
 "cells": [
  {
   "cell_type": "code",
   "execution_count": 1,
   "id": "e0fa47e6",
   "metadata": {},
   "outputs": [
    {
     "name": "stdout",
     "output_type": "stream",
     "text": [
      "n= 5\n",
      "factroial of n=  5\n",
      "factroial of n=  20\n",
      "factroial of n=  60\n",
      "factroial of n=  120\n",
      "factroial of n=  120\n"
     ]
    }
   ],
   "source": [
    "n=int(input('n= '))\n",
    "i=1\n",
    "prod=1\n",
    "while n>=i:\n",
    "    prod=prod*n\n",
    "    print('factroial of n= ',prod)\n",
    "    n=n-1"
   ]
  },
  {
   "cell_type": "code",
   "execution_count": null,
   "id": "2e443ef9",
   "metadata": {},
   "outputs": [],
   "source": []
  }
 ],
 "metadata": {
  "kernelspec": {
   "display_name": "Python 3",
   "language": "python",
   "name": "python3"
  },
  "language_info": {
   "codemirror_mode": {
    "name": "ipython",
    "version": 3
   },
   "file_extension": ".py",
   "mimetype": "text/x-python",
   "name": "python",
   "nbconvert_exporter": "python",
   "pygments_lexer": "ipython3",
   "version": "3.8.8"
  }
 },
 "nbformat": 4,
 "nbformat_minor": 5
}
