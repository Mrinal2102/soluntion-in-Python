{
 "cells": [
  {
   "cell_type": "code",
   "execution_count": 2,
   "id": "a298c9d9",
   "metadata": {},
   "outputs": [
    {
     "name": "stdout",
     "output_type": "stream",
     "text": [
      "a=99\n",
      "b=21\n",
      "c=87\n",
      "a is max 99\n"
     ]
    }
   ],
   "source": [
    "a= int(input('a='))\n",
    "b= int(input('b='))\n",
    "c= int(input('c='))\n",
    "if a>b>c or a>c>b:\n",
    "    print('a is max', a)\n",
    "elif b>a>c or b>c>a:\n",
    "    print('b is max', b)\n",
    "else:\n",
    "    print('c is max')"
   ]
  },
  {
   "cell_type": "code",
   "execution_count": null,
   "id": "899b0ccc",
   "metadata": {},
   "outputs": [],
   "source": []
  }
 ],
 "metadata": {
  "kernelspec": {
   "display_name": "Python 3",
   "language": "python",
   "name": "python3"
  },
  "language_info": {
   "codemirror_mode": {
    "name": "ipython",
    "version": 3
   },
   "file_extension": ".py",
   "mimetype": "text/x-python",
   "name": "python",
   "nbconvert_exporter": "python",
   "pygments_lexer": "ipython3",
   "version": "3.8.8"
  }
 },
 "nbformat": 4,
 "nbformat_minor": 5
}
