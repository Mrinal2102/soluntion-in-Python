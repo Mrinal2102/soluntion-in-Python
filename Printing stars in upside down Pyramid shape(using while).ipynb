{
 "cells": [
  {
   "cell_type": "code",
   "execution_count": 4,
   "id": "4552a60d",
   "metadata": {},
   "outputs": [
    {
     "name": "stdout",
     "output_type": "stream",
     "text": [
      "*********\n",
      "-*******\n",
      "--*****\n",
      "---***\n",
      "----*\n"
     ]
    }
   ],
   "source": [
    "i=1\n",
    "l=0\n",
    "while i<=5:\n",
    "    j=9\n",
    "    k=1\n",
    "    while k<i:\n",
    "        print('-',end='')\n",
    "        k=k+1\n",
    "    while j>l:\n",
    "        print('*',end='')\n",
    "        j=j-1\n",
    "    print()\n",
    "    l=l+2\n",
    "    i=i+1"
   ]
  },
  {
   "cell_type": "code",
   "execution_count": null,
   "id": "1afdeb39",
   "metadata": {},
   "outputs": [],
   "source": []
  },
  {
   "cell_type": "code",
   "execution_count": 5,
   "id": "fb919f17",
   "metadata": {},
   "outputs": [
    {
     "name": "stdout",
     "output_type": "stream",
     "text": [
      "555555555\n",
      "-5555555\n",
      "--55555\n",
      "---555\n",
      "----5\n"
     ]
    }
   ],
   "source": [
    "i=1\n",
    "l=0\n",
    "m=5\n",
    "while i<=5:\n",
    "    j=9\n",
    "    k=1\n",
    "    while k<i:\n",
    "        print('-',end='')\n",
    "        k=k+1\n",
    "    while j>l:\n",
    "        print(m,end='')\n",
    "        j=j-1\n",
    "    print()\n",
    "    l=l+2\n",
    "    i=i+1"
   ]
  },
  {
   "cell_type": "code",
   "execution_count": null,
   "id": "683f8872",
   "metadata": {},
   "outputs": [],
   "source": []
  },
  {
   "cell_type": "code",
   "execution_count": 6,
   "id": "9a6102a6",
   "metadata": {},
   "outputs": [
    {
     "name": "stdout",
     "output_type": "stream",
     "text": [
      "123456789\n",
      "-1234567\n",
      "--12345\n",
      "---123\n",
      "----1\n"
     ]
    }
   ],
   "source": [
    "i=1\n",
    "l=0\n",
    "while i<=5:\n",
    "    j=9\n",
    "    k=1\n",
    "    while k<i:\n",
    "        print('-',end='')\n",
    "        k=k+1\n",
    "    m=1\n",
    "    while j>l:\n",
    "        print(m,end='')\n",
    "        j=j-1\n",
    "        m=m+1\n",
    "    print()\n",
    "    l=l+2\n",
    "    i=i+1"
   ]
  },
  {
   "cell_type": "code",
   "execution_count": null,
   "id": "35f857bc",
   "metadata": {},
   "outputs": [],
   "source": []
  },
  {
   "cell_type": "code",
   "execution_count": 7,
   "id": "cc933588",
   "metadata": {},
   "outputs": [
    {
     "name": "stdout",
     "output_type": "stream",
     "text": [
      "111111111\n",
      "-2222222\n",
      "--33333\n",
      "---444\n",
      "----5\n"
     ]
    }
   ],
   "source": [
    "i=1\n",
    "l=0\n",
    "m=1\n",
    "while i<=5:\n",
    "    j=9\n",
    "    k=1\n",
    "    while k<i:\n",
    "        print('-',end='')\n",
    "        k=k+1\n",
    "    while j>l:\n",
    "        print(m,end='')\n",
    "        j=j-1\n",
    "    print()\n",
    "    l=l+2\n",
    "    i=i+1\n",
    "    m=m+1"
   ]
  },
  {
   "cell_type": "code",
   "execution_count": null,
   "id": "e4410a01",
   "metadata": {},
   "outputs": [],
   "source": []
  }
 ],
 "metadata": {
  "kernelspec": {
   "display_name": "Python 3",
   "language": "python",
   "name": "python3"
  },
  "language_info": {
   "codemirror_mode": {
    "name": "ipython",
    "version": 3
   },
   "file_extension": ".py",
   "mimetype": "text/x-python",
   "name": "python",
   "nbconvert_exporter": "python",
   "pygments_lexer": "ipython3",
   "version": "3.8.8"
  }
 },
 "nbformat": 4,
 "nbformat_minor": 5
}
