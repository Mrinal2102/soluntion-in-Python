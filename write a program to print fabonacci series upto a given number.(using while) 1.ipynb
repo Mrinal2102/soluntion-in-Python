{
 "cells": [
  {
   "cell_type": "code",
   "execution_count": 2,
   "id": "f1a639f3",
   "metadata": {},
   "outputs": [
    {
     "name": "stdout",
     "output_type": "stream",
     "text": [
      "n= 10\n",
      "sum=  0\n",
      "sum=  1\n",
      "sum=  1\n",
      "sum=  2\n",
      "sum=  3\n",
      "sum=  5\n",
      "sum=  8\n"
     ]
    }
   ],
   "source": [
    "n=int(input('n= '))\n",
    "i=0\n",
    "j=1\n",
    "sum=0\n",
    "while sum<=n:\n",
    "    print('sum= ',sum)\n",
    "    i=j\n",
    "    j=sum\n",
    "    sum=i+j"
   ]
  },
  {
   "cell_type": "code",
   "execution_count": null,
   "id": "91f748dc",
   "metadata": {},
   "outputs": [],
   "source": []
  }
 ],
 "metadata": {
  "kernelspec": {
   "display_name": "Python 3",
   "language": "python",
   "name": "python3"
  },
  "language_info": {
   "codemirror_mode": {
    "name": "ipython",
    "version": 3
   },
   "file_extension": ".py",
   "mimetype": "text/x-python",
   "name": "python",
   "nbconvert_exporter": "python",
   "pygments_lexer": "ipython3",
   "version": "3.8.8"
  }
 },
 "nbformat": 4,
 "nbformat_minor": 5
}
