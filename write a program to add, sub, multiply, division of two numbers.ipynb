{
 "cells": [
  {
   "cell_type": "code",
   "execution_count": 1,
   "id": "afe50e05",
   "metadata": {},
   "outputs": [
    {
     "name": "stdout",
     "output_type": "stream",
     "text": [
      "enter a number8\n",
      "enter a number6\n",
      "14 2 48 1.3333333333333333\n"
     ]
    }
   ],
   "source": [
    "a = int(input('enter a number'))\n",
    "b = int(input('enter a number'))\n",
    "c = a+b\n",
    "d = a-b\n",
    "e = a*b\n",
    "f = a/b\n",
    "print(c, d, e, f)"
   ]
  },
  {
   "cell_type": "code",
   "execution_count": null,
   "id": "ea104797",
   "metadata": {},
   "outputs": [],
   "source": []
  }
 ],
 "metadata": {
  "kernelspec": {
   "display_name": "Python 3",
   "language": "python",
   "name": "python3"
  },
  "language_info": {
   "codemirror_mode": {
    "name": "ipython",
    "version": 3
   },
   "file_extension": ".py",
   "mimetype": "text/x-python",
   "name": "python",
   "nbconvert_exporter": "python",
   "pygments_lexer": "ipython3",
   "version": "3.8.8"
  }
 },
 "nbformat": 4,
 "nbformat_minor": 5
}
