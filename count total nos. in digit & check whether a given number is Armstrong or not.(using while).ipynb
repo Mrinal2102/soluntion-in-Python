{
 "cells": [
  {
   "cell_type": "code",
   "execution_count": 1,
   "id": "0fa04af6",
   "metadata": {},
   "outputs": [
    {
     "name": "stdout",
     "output_type": "stream",
     "text": [
      "n= 153\n",
      "Total nos. in digit=  3\n",
      "n is Armstrong no.\n"
     ]
    }
   ],
   "source": [
    "n=int(input('n= '))\n",
    "sum=0\n",
    "p=0\n",
    "count=0\n",
    "p=n\n",
    "while p>0:\n",
    "    sum=sum + (p%10)**3\n",
    "    count=count + 1\n",
    "    p=p//10\n",
    "print('Total nos. in digit= ', count)\n",
    "if sum==n:\n",
    "    print('n is Armstrong no.')\n",
    "else:\n",
    "    print('n is not Armstrong no.')"
   ]
  },
  {
   "cell_type": "code",
   "execution_count": null,
   "id": "4186fe12",
   "metadata": {},
   "outputs": [],
   "source": []
  }
 ],
 "metadata": {
  "kernelspec": {
   "display_name": "Python 3",
   "language": "python",
   "name": "python3"
  },
  "language_info": {
   "codemirror_mode": {
    "name": "ipython",
    "version": 3
   },
   "file_extension": ".py",
   "mimetype": "text/x-python",
   "name": "python",
   "nbconvert_exporter": "python",
   "pygments_lexer": "ipython3",
   "version": "3.8.8"
  }
 },
 "nbformat": 4,
 "nbformat_minor": 5
}
