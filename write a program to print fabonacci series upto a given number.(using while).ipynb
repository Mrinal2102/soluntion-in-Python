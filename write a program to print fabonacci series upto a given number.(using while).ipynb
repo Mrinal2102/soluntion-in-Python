{
 "cells": [
  {
   "cell_type": "code",
   "execution_count": null,
   "id": "e871840c",
   "metadata": {},
   "outputs": [
    {
     "name": "stdout",
     "output_type": "stream",
     "text": [
      "n= 5\n"
     ]
    }
   ],
   "source": [
    "n=int(input('n= '))\n",
    "j=1\n",
    "sum=0\n",
    "sum_1=0\n",
    "while j<2:\n",
    "    sum = sum + j\n",
    "while j<=n:\n",
    "    sum_1 = sum + j\n",
    "    print('fabonacci series',sum_1)\n",
    "    j=j+2\n",
    "print('fabonacci series',sum_1)"
   ]
  },
  {
   "cell_type": "code",
   "execution_count": null,
   "id": "0220139e",
   "metadata": {},
   "outputs": [],
   "source": []
  }
 ],
 "metadata": {
  "kernelspec": {
   "display_name": "Python 3",
   "language": "python",
   "name": "python3"
  },
  "language_info": {
   "codemirror_mode": {
    "name": "ipython",
    "version": 3
   },
   "file_extension": ".py",
   "mimetype": "text/x-python",
   "name": "python",
   "nbconvert_exporter": "python",
   "pygments_lexer": "ipython3",
   "version": "3.8.8"
  }
 },
 "nbformat": 4,
 "nbformat_minor": 5
}
