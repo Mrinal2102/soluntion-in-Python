{
 "cells": [
  {
   "cell_type": "code",
   "execution_count": 3,
   "id": "eaa2847b",
   "metadata": {},
   "outputs": [
    {
     "name": "stdout",
     "output_type": "stream",
     "text": [
      "n= 3\n",
      "sum= 14\n"
     ]
    }
   ],
   "source": [
    "i=1\n",
    "n=int(input('n= '))\n",
    "p = 0\n",
    "sum = 0\n",
    "while i<=n:\n",
    "    p =  i**2\n",
    "    sum = sum + p\n",
    "    i=i+1\n",
    "print('sum=', sum)"
   ]
  },
  {
   "cell_type": "code",
   "execution_count": null,
   "id": "75d28f87",
   "metadata": {},
   "outputs": [],
   "source": []
  }
 ],
 "metadata": {
  "kernelspec": {
   "display_name": "Python 3",
   "language": "python",
   "name": "python3"
  },
  "language_info": {
   "codemirror_mode": {
    "name": "ipython",
    "version": 3
   },
   "file_extension": ".py",
   "mimetype": "text/x-python",
   "name": "python",
   "nbconvert_exporter": "python",
   "pygments_lexer": "ipython3",
   "version": "3.8.8"
  }
 },
 "nbformat": 4,
 "nbformat_minor": 5
}
