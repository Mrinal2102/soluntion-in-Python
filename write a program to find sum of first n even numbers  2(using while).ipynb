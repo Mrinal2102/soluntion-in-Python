{
 "cells": [
  {
   "cell_type": "code",
   "execution_count": 3,
   "id": "73d71610",
   "metadata": {},
   "outputs": [
    {
     "name": "stdout",
     "output_type": "stream",
     "text": [
      "n= 10\n",
      "no. of even nos.= 3\n",
      "sum of p even nos.=  12\n"
     ]
    }
   ],
   "source": [
    "i=1\n",
    "n=int(input('n= '))\n",
    "p=int(input('no. of even nos.= '))\n",
    "count=0\n",
    "sum=0\n",
    "while i<=n:\n",
    "    if i%2==0:\n",
    "        count=count+1\n",
    "        sum=sum+i\n",
    "        if count==p:\n",
    "            print('sum of p even nos.= ',sum)\n",
    "    i=i+1"
   ]
  },
  {
   "cell_type": "code",
   "execution_count": null,
   "id": "ce06592d",
   "metadata": {},
   "outputs": [],
   "source": []
  }
 ],
 "metadata": {
  "kernelspec": {
   "display_name": "Python 3",
   "language": "python",
   "name": "python3"
  },
  "language_info": {
   "codemirror_mode": {
    "name": "ipython",
    "version": 3
   },
   "file_extension": ".py",
   "mimetype": "text/x-python",
   "name": "python",
   "nbconvert_exporter": "python",
   "pygments_lexer": "ipython3",
   "version": "3.8.8"
  }
 },
 "nbformat": 4,
 "nbformat_minor": 5
}
