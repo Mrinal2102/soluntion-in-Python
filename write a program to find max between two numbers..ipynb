{
 "cells": [
  {
   "cell_type": "code",
   "execution_count": 3,
   "id": "1ba05f7a",
   "metadata": {},
   "outputs": [
    {
     "name": "stdout",
     "output_type": "stream",
     "text": [
      "enter first number: 9\n",
      "enter second number: 4\n",
      "a is maximum\n"
     ]
    }
   ],
   "source": [
    "a=int(input('enter first number: '))\n",
    "b=int(input('enter second number: '))\n",
    "c= a-b\n",
    "if c<=0:\n",
    "    print('b is maximum')\n",
    "else:\n",
    "    print('a is maximum')"
   ]
  },
  {
   "cell_type": "code",
   "execution_count": null,
   "id": "da2653a0",
   "metadata": {},
   "outputs": [],
   "source": []
  }
 ],
 "metadata": {
  "kernelspec": {
   "display_name": "Python 3",
   "language": "python",
   "name": "python3"
  },
  "language_info": {
   "codemirror_mode": {
    "name": "ipython",
    "version": 3
   },
   "file_extension": ".py",
   "mimetype": "text/x-python",
   "name": "python",
   "nbconvert_exporter": "python",
   "pygments_lexer": "ipython3",
   "version": "3.8.8"
  }
 },
 "nbformat": 4,
 "nbformat_minor": 5
}
