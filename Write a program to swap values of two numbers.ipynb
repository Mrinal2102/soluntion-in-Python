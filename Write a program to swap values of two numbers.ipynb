{
 "cells": [
  {
   "cell_type": "code",
   "execution_count": 3,
   "id": "4e0dbbe7",
   "metadata": {},
   "outputs": [
    {
     "name": "stdout",
     "output_type": "stream",
     "text": [
      "enter 1st number56\n",
      "enter 2nd number89\n",
      "before swap a= 56\n",
      "before swap b= 89\n",
      "after swap a= 89\n",
      "after swap b= 56\n"
     ]
    }
   ],
   "source": [
    "a = int(input('enter 1st number'))\n",
    "b = int(input('enter 2nd number'))\n",
    "print('before swap a=',a)\n",
    "print('before swap b=',b)\n",
    "c = a\n",
    "a = b\n",
    "b = c\n",
    "print('after swap a=',a)\n",
    "print('after swap b=',b)"
   ]
  },
  {
   "cell_type": "code",
   "execution_count": null,
   "id": "afb0492f",
   "metadata": {},
   "outputs": [],
   "source": []
  }
 ],
 "metadata": {
  "kernelspec": {
   "display_name": "Python 3",
   "language": "python",
   "name": "python3"
  },
  "language_info": {
   "codemirror_mode": {
    "name": "ipython",
    "version": 3
   },
   "file_extension": ".py",
   "mimetype": "text/x-python",
   "name": "python",
   "nbconvert_exporter": "python",
   "pygments_lexer": "ipython3",
   "version": "3.8.8"
  }
 },
 "nbformat": 4,
 "nbformat_minor": 5
}
