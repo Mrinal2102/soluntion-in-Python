{
 "cells": [
  {
   "cell_type": "code",
   "execution_count": 1,
   "id": "a97c2121",
   "metadata": {},
   "outputs": [
    {
     "name": "stdout",
     "output_type": "stream",
     "text": [
      "n= 10\n",
      "1\n",
      "3\n",
      "7\n"
     ]
    }
   ],
   "source": [
    "i=1\n",
    "n=int(input('n= '))\n",
    "while i<=n:\n",
    "    print(i)\n",
    "    i=i+(i+1)"
   ]
  },
  {
   "cell_type": "code",
   "execution_count": null,
   "id": "6dd4eaa6",
   "metadata": {},
   "outputs": [],
   "source": []
  },
  {
   "cell_type": "code",
   "execution_count": 2,
   "id": "102cc696",
   "metadata": {},
   "outputs": [
    {
     "name": "stdout",
     "output_type": "stream",
     "text": [
      "n= 10\n",
      "sum=  1\n",
      "sum=  3\n",
      "sum=  6\n",
      "sum=  10\n",
      "sum=  15\n",
      "sum=  21\n",
      "sum=  28\n",
      "sum=  36\n",
      "sum=  45\n",
      "sum=  55\n"
     ]
    }
   ],
   "source": [
    "i=1\n",
    "n=int(input('n= '))\n",
    "sum = 0\n",
    "while i<=n:\n",
    "    sum = sum + i\n",
    "    i=i+1\n",
    "    print('sum= ',sum)"
   ]
  },
  {
   "cell_type": "code",
   "execution_count": null,
   "id": "9933d156",
   "metadata": {},
   "outputs": [],
   "source": []
  },
  {
   "cell_type": "code",
   "execution_count": 3,
   "id": "d435bea5",
   "metadata": {},
   "outputs": [
    {
     "name": "stdout",
     "output_type": "stream",
     "text": [
      "n= 10\n",
      "sum=  55\n"
     ]
    }
   ],
   "source": [
    "i=1\n",
    "n=int(input('n= '))\n",
    "sum = 0\n",
    "while i<=n:\n",
    "    sum = sum + i\n",
    "    i=i+1\n",
    "print('sum= ',sum)"
   ]
  },
  {
   "cell_type": "code",
   "execution_count": null,
   "id": "9b408e6a",
   "metadata": {},
   "outputs": [],
   "source": []
  }
 ],
 "metadata": {
  "kernelspec": {
   "display_name": "Python 3",
   "language": "python",
   "name": "python3"
  },
  "language_info": {
   "codemirror_mode": {
    "name": "ipython",
    "version": 3
   },
   "file_extension": ".py",
   "mimetype": "text/x-python",
   "name": "python",
   "nbconvert_exporter": "python",
   "pygments_lexer": "ipython3",
   "version": "3.8.8"
  }
 },
 "nbformat": 4,
 "nbformat_minor": 5
}
