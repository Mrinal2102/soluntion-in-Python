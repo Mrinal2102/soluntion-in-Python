{
 "cells": [
  {
   "cell_type": "code",
   "execution_count": 1,
   "id": "1802ad9e",
   "metadata": {},
   "outputs": [
    {
     "name": "stdout",
     "output_type": "stream",
     "text": [
      "a= 56\n",
      "b= 76\n",
      "c= 34\n",
      "c is the middle number  34\n"
     ]
    }
   ],
   "source": [
    "a= int(input('a= '))\n",
    "b= int(input('b= '))\n",
    "c= int(input('c= '))\n",
    "if a>b and a<c:\n",
    "    print('a is the middle number ', a)\n",
    "elif b>a and b<c:\n",
    "    print('b is the middle number ', b)\n",
    "else:\n",
    "    print('c is the middle number ', c)"
   ]
  },
  {
   "cell_type": "code",
   "execution_count": null,
   "id": "1033fa78",
   "metadata": {},
   "outputs": [],
   "source": []
  },
  {
   "cell_type": "code",
   "execution_count": 2,
   "id": "abb2ced9",
   "metadata": {},
   "outputs": [
    {
     "name": "stdout",
     "output_type": "stream",
     "text": [
      "a= 56\n",
      "b= 76\n",
      "c= 34\n",
      "a is the middle number  56\n"
     ]
    }
   ],
   "source": [
    "a= int(input('a= '))\n",
    "b= int(input('b= '))\n",
    "c= int(input('c= '))\n",
    "if (a>b and a<c) or (a<b and a>c):\n",
    "    print('a is the middle number ', a)\n",
    "elif (b>a and b<c) or (b<a and b>c):\n",
    "    print('b is the middle number ', b)\n",
    "else:\n",
    "    print('c is the middle number ', c)"
   ]
  },
  {
   "cell_type": "code",
   "execution_count": null,
   "id": "fc26afdc",
   "metadata": {},
   "outputs": [],
   "source": []
  }
 ],
 "metadata": {
  "kernelspec": {
   "display_name": "Python 3",
   "language": "python",
   "name": "python3"
  },
  "language_info": {
   "codemirror_mode": {
    "name": "ipython",
    "version": 3
   },
   "file_extension": ".py",
   "mimetype": "text/x-python",
   "name": "python",
   "nbconvert_exporter": "python",
   "pygments_lexer": "ipython3",
   "version": "3.8.8"
  }
 },
 "nbformat": 4,
 "nbformat_minor": 5
}
