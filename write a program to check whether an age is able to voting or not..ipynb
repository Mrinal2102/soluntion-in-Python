{
 "cells": [
  {
   "cell_type": "code",
   "execution_count": 3,
   "id": "ee5688cd",
   "metadata": {},
   "outputs": [
    {
     "name": "stdout",
     "output_type": "stream",
     "text": [
      "enter your age:20\n",
      "your age is valid for voting\n"
     ]
    }
   ],
   "source": [
    "a=int(input('enter your age:'))\n",
    "b=18\n",
    "if a>=b:\n",
    "    print('your age is valid for voting')\n",
    "else:\n",
    "    print('your age is not valid for voting')"
   ]
  },
  {
   "cell_type": "code",
   "execution_count": null,
   "id": "add8388b",
   "metadata": {},
   "outputs": [],
   "source": []
  }
 ],
 "metadata": {
  "kernelspec": {
   "display_name": "Python 3",
   "language": "python",
   "name": "python3"
  },
  "language_info": {
   "codemirror_mode": {
    "name": "ipython",
    "version": 3
   },
   "file_extension": ".py",
   "mimetype": "text/x-python",
   "name": "python",
   "nbconvert_exporter": "python",
   "pygments_lexer": "ipython3",
   "version": "3.8.8"
  }
 },
 "nbformat": 4,
 "nbformat_minor": 5
}
