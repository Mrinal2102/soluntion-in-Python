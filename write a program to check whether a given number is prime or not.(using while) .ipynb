{
 "cells": [
  {
   "cell_type": "code",
   "execution_count": 2,
   "id": "9cc6811a",
   "metadata": {},
   "outputs": [
    {
     "ename": "SyntaxError",
     "evalue": "invalid syntax (<ipython-input-2-2469a8cbf937>, line 8)",
     "output_type": "error",
     "traceback": [
      "\u001b[1;36m  File \u001b[1;32m\"<ipython-input-2-2469a8cbf937>\"\u001b[1;36m, line \u001b[1;32m8\u001b[0m\n\u001b[1;33m    else p==0:\u001b[0m\n\u001b[1;37m         ^\u001b[0m\n\u001b[1;31mSyntaxError\u001b[0m\u001b[1;31m:\u001b[0m invalid syntax\n"
     ]
    }
   ],
   "source": [
    "n=int(input('n= '))\n",
    "i=2\n",
    "p=0\n",
    "while i<=n:\n",
    "    p = n%i\n",
    "    i=i+1\n",
    "    if p!=0:\n",
    "        print('n i a prime no.')\n",
    "    else p==0:\n",
    "        print('n is not a prime no.')\n",
    "    i=i+1\n",
    "print('n is a prime no.',n)"
   ]
  },
  {
   "cell_type": "code",
   "execution_count": null,
   "id": "f53232d0",
   "metadata": {},
   "outputs": [],
   "source": []
  },
  {
   "cell_type": "code",
   "execution_count": 19,
   "id": "cbc79b10",
   "metadata": {},
   "outputs": [
    {
     "name": "stdout",
     "output_type": "stream",
     "text": [
      "n= 24\n",
      "0 2\n",
      "0 3\n",
      "0 4\n",
      "4 5\n",
      "0 6\n",
      "3 7\n",
      "0 8\n",
      "6 9\n",
      "4 10\n",
      "2 11\n",
      "0 12\n",
      "11 13\n",
      "10 14\n",
      "9 15\n",
      "8 16\n",
      "7 17\n",
      "6 18\n",
      "5 19\n",
      "4 20\n",
      "3 21\n",
      "2 22\n",
      "1 23\n",
      "0 24\n",
      "n is not prime\n"
     ]
    }
   ],
   "source": [
    "n=int(input('n= '))\n",
    "i=2\n",
    "p=0\n",
    "count=0\n",
    "t=n\n",
    "while i<=n:\n",
    "    p = n%i\n",
    "    count = count+1\n",
    "    print(p, i)\n",
    "    i=i+1\n",
    "if p==0 and i<n and count==t-1:\n",
    "    print('n is prime')\n",
    "else:\n",
    "    print('n is not prime')\n",
    "\n",
    "\n",
    "\n",
    "\n"
   ]
  },
  {
   "cell_type": "code",
   "execution_count": null,
   "id": "65b69f3d",
   "metadata": {},
   "outputs": [],
   "source": []
  },
  {
   "cell_type": "code",
   "execution_count": 1,
   "id": "4d572826",
   "metadata": {},
   "outputs": [
    {
     "name": "stdout",
     "output_type": "stream",
     "text": [
      "n= 23\n",
      "n is not prime no.\n",
      "n is not prime no.\n",
      "n is not prime no.\n",
      "n is not prime no.\n",
      "n is not prime no.\n",
      "n is not prime no.\n",
      "n is not prime no.\n",
      "n is not prime no.\n",
      "n is not prime no.\n",
      "n is not prime no.\n",
      "n is not prime no.\n",
      "n is not prime no.\n",
      "n is not prime no.\n",
      "n is not prime no.\n",
      "n is not prime no.\n",
      "n is not prime no.\n",
      "n is not prime no.\n",
      "n is not prime no.\n",
      "n is not prime no.\n",
      "n is not prime no.\n",
      "n is not prime no.\n",
      "n is prime no.\n"
     ]
    }
   ],
   "source": [
    "n=int(input('n= '))\n",
    "i=2\n",
    "p=0\n",
    "count=0\n",
    "t=n\n",
    "while i<=n:\n",
    "    p = n%i\n",
    "    if p==0 and i==t:\n",
    "        print('n is prime no.')\n",
    "    else:\n",
    "        print('n is not prime no.')\n",
    "    i=i+1"
   ]
  },
  {
   "cell_type": "code",
   "execution_count": null,
   "id": "0055301d",
   "metadata": {},
   "outputs": [],
   "source": []
  },
  {
   "cell_type": "code",
   "execution_count": 21,
   "id": "2963cf4f",
   "metadata": {},
   "outputs": [
    {
     "name": "stdout",
     "output_type": "stream",
     "text": [
      "n= 55\n",
      "count of zeros=  3\n",
      "n is not prime no.\n"
     ]
    }
   ],
   "source": [
    "n=int(input('n= '))\n",
    "i=2\n",
    "p=0\n",
    "count=0\n",
    "while i<=n:\n",
    "    p = n%i\n",
    "    if p==0:\n",
    "        count = count + 1\n",
    "    i=i+1\n",
    "print('count of zeros= ', count)\n",
    "if count==1:\n",
    "    print('n is prime no.')\n",
    "else:\n",
    "    print('n is not prime no.')"
   ]
  },
  {
   "cell_type": "code",
   "execution_count": null,
   "id": "9c8be9d7",
   "metadata": {},
   "outputs": [],
   "source": []
  },
  {
   "cell_type": "code",
   "execution_count": null,
   "id": "af45c485",
   "metadata": {},
   "outputs": [],
   "source": [
    "n=int(input('n= '))\n",
    "i=2\n",
    "p=0\n",
    "count=0\n",
    "t=n\n",
    "while i<=n:\n",
    "    p = n%i\n",
    "    if p==0 and i<n:\n",
    "        print('n is not prime')\n",
    "        i=i+1"
   ]
  }
 ],
 "metadata": {
  "kernelspec": {
   "display_name": "Python 3",
   "language": "python",
   "name": "python3"
  },
  "language_info": {
   "codemirror_mode": {
    "name": "ipython",
    "version": 3
   },
   "file_extension": ".py",
   "mimetype": "text/x-python",
   "name": "python",
   "nbconvert_exporter": "python",
   "pygments_lexer": "ipython3",
   "version": "3.8.8"
  }
 },
 "nbformat": 4,
 "nbformat_minor": 5
}
