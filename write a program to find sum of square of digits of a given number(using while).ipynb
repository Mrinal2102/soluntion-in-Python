{
 "cells": [
  {
   "cell_type": "code",
   "execution_count": 2,
   "id": "6f1d9af1",
   "metadata": {},
   "outputs": [
    {
     "name": "stdout",
     "output_type": "stream",
     "text": [
      "n= 999\n",
      "sum of square of digits in n=  243\n"
     ]
    }
   ],
   "source": [
    "n=int(input('n= '))\n",
    "sum=0\n",
    "while n>0:\n",
    "    sum= sum + (n%10)**2\n",
    "    n=n//10\n",
    "print('sum of square of digits in n= ',sum)"
   ]
  },
  {
   "cell_type": "code",
   "execution_count": null,
   "id": "db4f6abd",
   "metadata": {},
   "outputs": [],
   "source": []
  }
 ],
 "metadata": {
  "kernelspec": {
   "display_name": "Python 3",
   "language": "python",
   "name": "python3"
  },
  "language_info": {
   "codemirror_mode": {
    "name": "ipython",
    "version": 3
   },
   "file_extension": ".py",
   "mimetype": "text/x-python",
   "name": "python",
   "nbconvert_exporter": "python",
   "pygments_lexer": "ipython3",
   "version": "3.8.8"
  }
 },
 "nbformat": 4,
 "nbformat_minor": 5
}
