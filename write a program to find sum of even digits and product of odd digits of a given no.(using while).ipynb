{
 "cells": [
  {
   "cell_type": "code",
   "execution_count": 7,
   "id": "7f7e191e",
   "metadata": {},
   "outputs": [
    {
     "name": "stdout",
     "output_type": "stream",
     "text": [
      "n= 1234\n",
      "sum of even digits=  4\n",
      "sum of odd digits=  3\n",
      "sum of even digits=  6\n",
      "sum of odd digits=  3\n"
     ]
    }
   ],
   "source": [
    "n = int(input('n= '))\n",
    "sum=0\n",
    "prod=1\n",
    "p=0\n",
    "p=n\n",
    "t=0\n",
    "while p>0:\n",
    "    t=p%10\n",
    "    if t%2==0:\n",
    "        sum=sum + t\n",
    "        print('sum of even digits= ',sum)\n",
    "    else:\n",
    "        prod=prod*t\n",
    "        print('sum of odd digits= ',prod)\n",
    "    p=p//10"
   ]
  },
  {
   "cell_type": "code",
   "execution_count": null,
   "id": "35443009",
   "metadata": {},
   "outputs": [],
   "source": []
  },
  {
   "cell_type": "code",
   "execution_count": 6,
   "id": "0886fc91",
   "metadata": {},
   "outputs": [
    {
     "name": "stdout",
     "output_type": "stream",
     "text": [
      "n= 1234\n",
      "sum of even digits=  6 product of odd digits=  3\n"
     ]
    }
   ],
   "source": [
    "n = int(input('n= '))\n",
    "sum=0\n",
    "prod=1\n",
    "p=0\n",
    "p=n\n",
    "t=0\n",
    "while p>0:\n",
    "    t=p%10\n",
    "    if t%2==0:\n",
    "        sum=sum + t\n",
    "    else:\n",
    "        prod=prod*t\n",
    "    p=p//10\n",
    "print('sum of even digits= ',sum,'product of odd digits= ',prod)"
   ]
  },
  {
   "cell_type": "code",
   "execution_count": null,
   "id": "6b5cc3f7",
   "metadata": {},
   "outputs": [],
   "source": []
  }
 ],
 "metadata": {
  "kernelspec": {
   "display_name": "Python 3",
   "language": "python",
   "name": "python3"
  },
  "language_info": {
   "codemirror_mode": {
    "name": "ipython",
    "version": 3
   },
   "file_extension": ".py",
   "mimetype": "text/x-python",
   "name": "python",
   "nbconvert_exporter": "python",
   "pygments_lexer": "ipython3",
   "version": "3.8.8"
  }
 },
 "nbformat": 4,
 "nbformat_minor": 5
}
