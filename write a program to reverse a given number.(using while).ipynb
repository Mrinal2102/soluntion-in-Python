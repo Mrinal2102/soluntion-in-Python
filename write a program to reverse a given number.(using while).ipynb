{
 "cells": [
  {
   "cell_type": "code",
   "execution_count": 4,
   "id": "f1627e4b",
   "metadata": {},
   "outputs": [
    {
     "name": "stdout",
     "output_type": "stream",
     "text": [
      "n= 12454\n",
      "reverse no.=  45421\n"
     ]
    }
   ],
   "source": [
    "n=int(input('n= '))\n",
    "p=0\n",
    "p=n\n",
    "m=n\n",
    "t=0\n",
    "sum=0\n",
    "count=0\n",
    "count_1=0\n",
    "while p>0:\n",
    "    count = count + 1\n",
    "    p=p//10\n",
    "#print('count= ',count)\n",
    "while m>0:\n",
    "    count_1= count_1 + 1\n",
    "    sum=sum + (m%10)*(10**(count-count_1))\n",
    "    m=m//10\n",
    "print('reverse no.= ', sum)"
   ]
  },
  {
   "cell_type": "code",
   "execution_count": null,
   "id": "79786f49",
   "metadata": {},
   "outputs": [],
   "source": []
  }
 ],
 "metadata": {
  "kernelspec": {
   "display_name": "Python 3",
   "language": "python",
   "name": "python3"
  },
  "language_info": {
   "codemirror_mode": {
    "name": "ipython",
    "version": 3
   },
   "file_extension": ".py",
   "mimetype": "text/x-python",
   "name": "python",
   "nbconvert_exporter": "python",
   "pygments_lexer": "ipython3",
   "version": "3.8.8"
  }
 },
 "nbformat": 4,
 "nbformat_minor": 5
}
