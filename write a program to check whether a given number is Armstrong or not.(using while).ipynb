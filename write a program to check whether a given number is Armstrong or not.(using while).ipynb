{
 "cells": [
  {
   "cell_type": "code",
   "execution_count": 13,
   "id": "bd60c179",
   "metadata": {},
   "outputs": [
    {
     "name": "stdout",
     "output_type": "stream",
     "text": [
      "n= 153\n",
      "sum= 153\n",
      "no. is Armstromg\n"
     ]
    }
   ],
   "source": [
    "n = int(input('n= '))\n",
    "p=0\n",
    "sum=0\n",
    "p=n\n",
    "while p>0:\n",
    "    sum = sum + (p%10)**3\n",
    "    p=p//10\n",
    "print('sum=',sum)\n",
    "if n==sum: \n",
    "    print('no. is Armstromg')\n",
    "else:\n",
    "    print('no. is not Armstrong')"
   ]
  },
  {
   "cell_type": "code",
   "execution_count": null,
   "id": "4ce71ecb",
   "metadata": {},
   "outputs": [],
   "source": []
  },
  {
   "cell_type": "code",
   "execution_count": null,
   "id": "3f59e13e",
   "metadata": {},
   "outputs": [],
   "source": []
  }
 ],
 "metadata": {
  "kernelspec": {
   "display_name": "Python 3",
   "language": "python",
   "name": "python3"
  },
  "language_info": {
   "codemirror_mode": {
    "name": "ipython",
    "version": 3
   },
   "file_extension": ".py",
   "mimetype": "text/x-python",
   "name": "python",
   "nbconvert_exporter": "python",
   "pygments_lexer": "ipython3",
   "version": "3.8.8"
  }
 },
 "nbformat": 4,
 "nbformat_minor": 5
}
