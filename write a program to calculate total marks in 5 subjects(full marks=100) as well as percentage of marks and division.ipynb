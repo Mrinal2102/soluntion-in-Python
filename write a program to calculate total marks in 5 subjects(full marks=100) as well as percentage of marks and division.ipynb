{
 "cells": [
  {
   "cell_type": "code",
   "execution_count": 1,
   "id": "90638b54",
   "metadata": {},
   "outputs": [
    {
     "name": "stdout",
     "output_type": "stream",
     "text": [
      "Maths= 56\n",
      "Phy= 67\n",
      "Che= 89\n",
      "Eng= 58\n",
      "IP= 80\n",
      "Grade B 70.0\n"
     ]
    }
   ],
   "source": [
    "F_M_Maths = 100\n",
    "F_M_Phy = 100\n",
    "F_M_Che = 100\n",
    "F_M_Eng = 100\n",
    "F_M_IP = 100\n",
    "\n",
    "M_O_Maths = int(input('Maths= '))\n",
    "M_O_Phy = int(input('Phy= '))\n",
    "M_O_Che = int(input('Che= '))\n",
    "M_O_Eng = int(input('Eng= '))\n",
    "M_O_IP = int(input('IP= '))\n",
    "\n",
    "T_M_O_5_Sub = M_O_Maths + M_O_Phy + M_O_Che + M_O_Eng + M_O_IP\n",
    "F_M_5_Sub = 500\n",
    "\n",
    "Percentage = (T_M_O_5_Sub/F_M_5_Sub)*100\n",
    "\n",
    "if Percentage>=80:\n",
    "    print('Grade A', Percentage)\n",
    "elif Percentage>=60:\n",
    "    print('Grade B', Percentage)\n",
    "elif Percentage>=40:\n",
    "    print('Grade C', Percentage)\n",
    "else:\n",
    "    print('Grade D', Percentage)"
   ]
  },
  {
   "cell_type": "code",
   "execution_count": null,
   "id": "649af213",
   "metadata": {},
   "outputs": [],
   "source": []
  }
 ],
 "metadata": {
  "kernelspec": {
   "display_name": "Python 3",
   "language": "python",
   "name": "python3"
  },
  "language_info": {
   "codemirror_mode": {
    "name": "ipython",
    "version": 3
   },
   "file_extension": ".py",
   "mimetype": "text/x-python",
   "name": "python",
   "nbconvert_exporter": "python",
   "pygments_lexer": "ipython3",
   "version": "3.8.8"
  }
 },
 "nbformat": 4,
 "nbformat_minor": 5
}
